{
 "cells": [
  {
   "cell_type": "code",
   "execution_count": null,
   "metadata": {},
   "outputs": [],
   "source": []
  },
  {
   "cell_type": "code",
   "execution_count": 9,
   "metadata": {
    "scrolled": false
   },
   "outputs": [
    {
     "name": "stdout",
     "output_type": "stream",
     "text": [
      "temperture is : [  0.   1.   2.   3.   4.   5.   6.   7.   8.   9.  10.  11.  12.  13.\n",
      "  14.  15.  16.  17.  18.  19.  20.  21.  22.  23.  24.  25.  26.  27.\n",
      "  28.  29.  30.  31.  32.  33.  34.  35.  36.  37.  38.  39.  40.  41.\n",
      "  42.  43.  44.  45.  46.  47.  48.  49.  50.  51.  52.  53.  54.  55.\n",
      "  56.  57.  58.  59.  60.  61.  62.  63.  64.  65.  66.  67.  68.  69.\n",
      "  70.  71.  72.  73.  74.  75.  76.  77.  78.  79.  80.  81.  82.  83.\n",
      "  84.  85.  86.  87.  88.  89.  90.  91.  92.  93.  94.  95.  96.  97.\n",
      "  98.  99. 100.] \n",
      "\n",
      "intensity of magnetization is : [1.2   1.226 1.252 1.278 1.304 1.33  1.356 1.382 1.408 1.434 1.46  1.486\n",
      " 1.512 1.538 1.564 1.59  1.616 1.642 1.668 1.694 1.72  1.746 1.772 1.798\n",
      " 1.824 1.85  1.876 1.902 1.928 1.954 1.98  2.006 2.032 2.058 2.084 2.11\n",
      " 2.136 2.162 2.188 2.214 2.24  2.266 2.292 2.318 2.344 2.37  2.396 2.422\n",
      " 2.448 2.474 2.5   2.526 2.552 2.578 2.604 2.63  2.656 2.682 2.708 2.734\n",
      " 2.76  2.786 2.812 2.838 2.864 2.89  2.916 2.942 2.968 2.994 3.02  3.046\n",
      " 3.072 3.098 3.124 3.15  3.176 3.202 3.228 3.254 3.28  3.306 3.332 3.358\n",
      " 3.384 3.41  3.436 3.462 3.488 3.514 3.54  3.566 3.592 3.618 3.644 3.67\n",
      " 3.696 3.722 3.748 3.774 3.8  ]\n",
      "P is : [ 9.974e-01 -9.967e-01 -9.960e-01  5.050e-02  9.946e-01 -9.938e-01\n",
      "  9.928e-01 -6.749e-01 -9.908e-01 -9.899e-01 -9.888e-01  9.874e-01\n",
      "  4.490e-02 -9.841e-01  9.822e-01  9.803e-01  9.783e-01  9.760e-01\n",
      "  9.733e-01  9.706e-01  2.612e-01 -5.021e-01  9.607e-01 -9.568e-01\n",
      "  4.790e-02  7.958e-01  9.429e-01 -9.379e-01 -9.314e-01 -4.142e-01\n",
      "  9.163e-01  4.400e-03 -8.944e-01 -8.884e-01 -8.775e-01 -8.622e-01\n",
      "  7.738e-01  8.270e-01  7.611e-01  7.399e-01 -7.072e-01  6.406e-01\n",
      "  2.730e-01 -2.946e-01 -2.320e-02  1.373e-01  7.370e-02  2.380e-02\n",
      " -3.700e-03 -9.300e-03 -2.700e-03  4.600e-03 -3.400e-03  1.300e-03\n",
      " -9.000e-03  5.600e-03  2.300e-03  2.000e-03 -5.000e-03 -2.000e-04\n",
      " -3.000e-03  5.000e-03  4.200e-03 -7.000e-04  1.000e-04 -2.000e-03\n",
      "  5.000e-04  3.000e-03  8.000e-04 -1.200e-03  4.000e-04 -9.000e-04\n",
      "  1.900e-03 -1.600e-03 -1.000e-04 -1.900e-03  1.500e-03 -2.500e-03\n",
      " -2.000e-04  1.000e-03  1.500e-03  7.000e-04  8.000e-04  2.500e-03\n",
      "  2.000e-04 -1.000e-03  3.000e-04  1.000e-03  7.000e-04 -2.000e-04\n",
      "  8.000e-04  4.000e-04  4.000e-04  7.000e-04  2.600e-03 -9.000e-04\n",
      "  8.000e-04  4.000e-04  1.000e-04  6.000e-04 -2.000e-04] \n",
      "\n",
      "E is : [-1.9884 -1.9863 -1.9841 -1.9087 -1.9797 -1.9772 -1.9741 -1.9181 -1.9665\n",
      " -1.9626 -1.9583 -1.9535 -1.8294 -1.9428 -1.9368 -1.9301 -1.9234 -1.9159\n",
      " -1.9075 -1.8991 -1.8027 -1.8233 -1.8691 -1.8579 -1.7577 -1.8082 -1.8192\n",
      " -1.8057 -1.789  -1.6967 -1.7534 -1.6409 -1.7117 -1.6918 -1.6697 -1.642\n",
      " -1.5957 -1.5837 -1.538  -1.5008 -1.4602 -1.4119 -1.3257 -1.2827 -1.2343\n",
      " -1.2063 -1.1712 -1.1378 -1.1097 -1.0834 -1.0578 -1.0361 -1.0162 -0.9942\n",
      " -0.9762 -0.956  -0.9397 -0.9237 -0.9069 -0.8914 -0.8776 -0.8628 -0.8497\n",
      " -0.8352 -0.8227 -0.8116 -0.7997 -0.7881 -0.7774 -0.7674 -0.7563 -0.7465\n",
      " -0.7378 -0.7267 -0.7184 -0.7088 -0.7001 -0.6921 -0.6842 -0.6765 -0.6681\n",
      " -0.661  -0.6524 -0.6463 -0.6393 -0.6326 -0.6259 -0.6189 -0.6125 -0.6063\n",
      " -0.6001 -0.5948 -0.5887 -0.5834 -0.5776 -0.5718 -0.5666 -0.5608 -0.5558\n",
      " -0.5506 -0.5456] \n",
      "\n",
      "P2 is : [-0.3906  3.0271  5.1627  1.2551  0.7616 -1.7172 -1.1122 10.9088  1.4969\n",
      "  1.0699  0.0293 -0.4529  0.2964 -0.0222  0.4139  0.7684  1.1249  1.0394\n",
      "  0.8788  0.8198  0.3068  4.3275  0.8631  0.986   0.482   3.6161  0.4553\n",
      "  0.5515  0.6638  3.011   0.7311  0.953   0.7923  0.7104  0.9345  1.1\n",
      "  2.7318  1.2649  2.116   1.9475  1.7708  2.2917  2.867   1.9186  1.5301\n",
      "  1.6137  1.2718  1.1558  1.      0.9856  0.8973  0.8569  0.8249  0.8266\n",
      "  0.8248  0.7717  0.7303  0.6902  0.6634  0.5781  0.5699  0.5402  0.499\n",
      "  0.5331  0.5038  0.5049  0.4551  0.4685  0.4476  0.4181  0.4023  0.399\n",
      "  0.3965  0.3766  0.3756  0.3353  0.35    0.3385  0.3295  0.3396  0.336\n",
      "  0.331   0.3525  0.3421  0.3379  0.3304  0.3179  0.3011  0.2814  0.272\n",
      "  0.2567  0.2457  0.2426  0.2326  0.2311  0.2281  0.2232  0.2168  0.2177\n",
      "  0.1997  0.2003] \n",
      "\n"
     ]
    }
   ],
   "source": [
    "#/bin/python3\n",
    "#-*-coding:utf-8 -*-\n",
    "import matplotlib.pyplot as plt\n",
    "import os\n",
    "import numpy as np\n",
    "\n",
    "#\"这里定义了温度T，磁化强度M, 热容C, 能量E,磁化系数P2\"\n",
    "T =np.linspace(0,100,101)\n",
    "M =np.array([],dtype=np.double)\n",
    "C =np.array([],dtype=np.double)\n",
    "E =np.array([],dtype=np.double)\n",
    "P2 =np.array([],dtype=np.double)\n",
    "\n",
    "#\"数据文件路径\"\n",
    "path=\"stats_var.txt\"\n",
    "\n",
    "#这里从数据文件中读取数据，并且分割\n",
    "with open(path,\"r\") as f:\n",
    "    while True:\n",
    "        a = f.readline()\n",
    "        a=a.split()\n",
    "        #如果读出空的字符，则跳出循环\n",
    "        if a == []:\n",
    "            break\n",
    "       # print(a[3])\n",
    "       #将数据文件按顺序读入numpy数组\n",
    "        M = np.append(M,np.double(a[0]))\n",
    "        E = np.append(E,np.double(a[1]))\n",
    "        C = np.append(C,np.double(a[2]))\n",
    "        P2 = np.append(P2,np.double(a[3]))\n",
    "\n",
    "#这里输出数据是为了方便观察，这些代码可以删除        \n",
    "print(\"temperture is :\",T,\"\\n\")\n",
    "print(\"intensity of magnetization is :\",M)\n",
    "\n",
    "print(\"P is :\",E,\"\\n\")\n",
    "print(\"E is :\",C,\"\\n\")\n",
    "print(\"P2 is :\",P2,\"\\n\")   "
   ]
  },
  {
   "cell_type": "code",
   "execution_count": 10,
   "metadata": {
    "scrolled": false
   },
   "outputs": [
    {
     "ename": "FileNotFoundError",
     "evalue": "[Errno 2] No such file or directory: '/ising_2d.in'",
     "output_type": "error",
     "traceback": [
      "\u001b[0;31m------------------------------------------------------------\u001b[0m",
      "\u001b[0;31mFileNotFoundError\u001b[0m          Traceback (most recent call last)",
      "\u001b[0;32m<ipython-input-10-7634241b928b>\u001b[0m in \u001b[0;36m<module>\u001b[0;34m()\u001b[0m\n\u001b[1;32m      6\u001b[0m             \u001b[0ma\u001b[0m \u001b[0;34m=\u001b[0m\u001b[0ma\u001b[0m\u001b[0;34m+\u001b[0m\u001b[0mi\u001b[0m\u001b[0;34m+\u001b[0m\u001b[0;34m\"/\"\u001b[0m\u001b[0;34m\u001b[0m\u001b[0m\n\u001b[1;32m      7\u001b[0m \u001b[0ma\u001b[0m \u001b[0;34m=\u001b[0m\u001b[0ma\u001b[0m\u001b[0;34m+\u001b[0m\u001b[0;34m\"ising_2d.in\"\u001b[0m\u001b[0;34m\u001b[0m\u001b[0m\n\u001b[0;32m----> 8\u001b[0;31m \u001b[0;32mwith\u001b[0m \u001b[0mopen\u001b[0m\u001b[0;34m(\u001b[0m\u001b[0ma\u001b[0m\u001b[0;34m,\u001b[0m\u001b[0;34m\"r\"\u001b[0m\u001b[0;34m)\u001b[0m \u001b[0;32mas\u001b[0m \u001b[0mf\u001b[0m\u001b[0;34m:\u001b[0m\u001b[0;34m\u001b[0m\u001b[0m\n\u001b[0m\u001b[1;32m      9\u001b[0m     \u001b[0mb\u001b[0m\u001b[0;34m=\u001b[0m\u001b[0mf\u001b[0m\u001b[0;34m.\u001b[0m\u001b[0mreadline\u001b[0m\u001b[0;34m(\u001b[0m\u001b[0;34m)\u001b[0m\u001b[0;34m\u001b[0m\u001b[0m\n\u001b[1;32m     10\u001b[0m     \u001b[0mc\u001b[0m\u001b[0;34m=\u001b[0m\u001b[0mf\u001b[0m\u001b[0;34m.\u001b[0m\u001b[0mreadline\u001b[0m\u001b[0;34m(\u001b[0m\u001b[0;34m)\u001b[0m\u001b[0;34m\u001b[0m\u001b[0m\n",
      "\u001b[0;31mFileNotFoundError\u001b[0m: [Errno 2] No such file or directory: '/ising_2d.in'"
     ]
    }
   ],
   "source": [
    "infile =path.split(\"/\")\n",
    "import os\n",
    "a =\"/\"\n",
    "for i in infile[:-1]:\n",
    "      if i !=\"\":\n",
    "            a =a+i+\"/\"\n",
    "a =a+\"ising_2d.in\"\n",
    "with open(a,\"r\") as f:\n",
    "    b=f.readline()\n",
    "    c=f.readline()\n",
    "    d=f.readline()\n",
    "    e=f.readline()\n",
    "    print(\"filepath is :---------------------------------------------------  >>    \", a)\n",
    "    print(\"Nx,Ny ---------------------------------------------------------- >>    \",b.split(\"!\")[0])\n",
    "    print(\"iterrations;    statics_start;       skip;  those are--------->>    \",c.split(\"!\")[0])\n",
    "    print(\"seed------------------------------------------------------------>>     \",d.split(\"!\")[0])\n",
    "    print(\"J ,kB -------------------- --------------------------------------->>     \",e)\n",
    "    \n",
    "a,b,c,d,e"
   ]
  },
  {
   "cell_type": "code",
   "execution_count": 11,
   "metadata": {
    "scrolled": false
   },
   "outputs": [],
   "source": [
    "#将画图部分封装成函数，进行调用，代码复用\n",
    "\n",
    "def plots(x,y,title,x_l=\"t\",y_l=\"some\"):\n",
    "    plt.style.use('dark_background')\n",
    "    fig,ax = plt.subplots()\n",
    "    #设置图例,字符串拼接可以每个图设置不同的，参数\n",
    "    label=\"$\"+x_l+\"-\"+y_l+\"$\"\n",
    "    ax.plot(x,y,label=label)\n",
    "    \n",
    "    #设置图像象限\n",
    "    ax.set_ylim(np.amin(y),np.amax(y))\n",
    "    ax.set_xlim(np.amin(x),np.amax(x))\n",
    "    ax.set_xlabel(x_l)\n",
    "    ax.set_ylabel(y_l)\n",
    "    ax.set_title(title,color=\"red\")\n",
    "    plt.legend()\n",
    "    plt.show()"
   ]
  },
  {
   "cell_type": "code",
   "execution_count": 7,
   "metadata": {},
   "outputs": [
    {
     "ename": "ValueError",
     "evalue": "x and y must have same first dimension, but have shapes (101,) and (0,)",
     "output_type": "error",
     "traceback": [
      "\u001b[0;31m------------------------------------------------------------\u001b[0m",
      "\u001b[0;31mValueError\u001b[0m                 Traceback (most recent call last)",
      "\u001b[0;32m<ipython-input-7-44344456f461>\u001b[0m in \u001b[0;36m<module>\u001b[0;34m()\u001b[0m\n\u001b[0;32m----> 1\u001b[0;31m \u001b[0mplots\u001b[0m\u001b[0;34m(\u001b[0m\u001b[0mT\u001b[0m\u001b[0;34m,\u001b[0m\u001b[0mE\u001b[0m\u001b[0;34m,\u001b[0m\u001b[0;34m\"Energy\"\u001b[0m\u001b[0;34m,\u001b[0m\u001b[0;34m\"t\"\u001b[0m\u001b[0;34m,\u001b[0m\u001b[0;34m\"E\"\u001b[0m\u001b[0;34m)\u001b[0m\u001b[0;34m\u001b[0m\u001b[0m\n\u001b[0m",
      "\u001b[0;32m<ipython-input-5-b760b56afd93>\u001b[0m in \u001b[0;36mplots\u001b[0;34m(x, y, title, x_l, y_l)\u001b[0m\n\u001b[1;32m      6\u001b[0m     \u001b[0;31m#设置图例,字符串拼接可以每个图设置不同的，参数\u001b[0m\u001b[0;34m\u001b[0m\u001b[0;34m\u001b[0m\u001b[0m\n\u001b[1;32m      7\u001b[0m     \u001b[0mlabel\u001b[0m\u001b[0;34m=\u001b[0m\u001b[0;34m\"$\"\u001b[0m\u001b[0;34m+\u001b[0m\u001b[0mx_l\u001b[0m\u001b[0;34m+\u001b[0m\u001b[0;34m\"-\"\u001b[0m\u001b[0;34m+\u001b[0m\u001b[0my_l\u001b[0m\u001b[0;34m+\u001b[0m\u001b[0;34m\"$\"\u001b[0m\u001b[0;34m\u001b[0m\u001b[0m\n\u001b[0;32m----> 8\u001b[0;31m     \u001b[0max\u001b[0m\u001b[0;34m.\u001b[0m\u001b[0mplot\u001b[0m\u001b[0;34m(\u001b[0m\u001b[0mx\u001b[0m\u001b[0;34m,\u001b[0m\u001b[0my\u001b[0m\u001b[0;34m,\u001b[0m\u001b[0mlabel\u001b[0m\u001b[0;34m=\u001b[0m\u001b[0mlabel\u001b[0m\u001b[0;34m)\u001b[0m\u001b[0;34m\u001b[0m\u001b[0m\n\u001b[0m\u001b[1;32m      9\u001b[0m \u001b[0;34m\u001b[0m\u001b[0m\n\u001b[1;32m     10\u001b[0m     \u001b[0;31m#设置图像象限\u001b[0m\u001b[0;34m\u001b[0m\u001b[0;34m\u001b[0m\u001b[0m\n",
      "\u001b[0;32m/data/data/com.termux/files/usr/lib/python3.6/site-packages/matplotlib/__init__.py\u001b[0m in \u001b[0;36minner\u001b[0;34m(ax, *args, **kwargs)\u001b[0m\n\u001b[1;32m   1853\u001b[0m                         \u001b[0;34m\"the Matplotlib list!)\"\u001b[0m \u001b[0;34m%\u001b[0m \u001b[0;34m(\u001b[0m\u001b[0mlabel_namer\u001b[0m\u001b[0;34m,\u001b[0m \u001b[0mfunc\u001b[0m\u001b[0;34m.\u001b[0m\u001b[0m__name__\u001b[0m\u001b[0;34m)\u001b[0m\u001b[0;34m,\u001b[0m\u001b[0;34m\u001b[0m\u001b[0m\n\u001b[1;32m   1854\u001b[0m                         RuntimeWarning, stacklevel=2)\n\u001b[0;32m-> 1855\u001b[0;31m             \u001b[0;32mreturn\u001b[0m \u001b[0mfunc\u001b[0m\u001b[0;34m(\u001b[0m\u001b[0max\u001b[0m\u001b[0;34m,\u001b[0m \u001b[0;34m*\u001b[0m\u001b[0margs\u001b[0m\u001b[0;34m,\u001b[0m \u001b[0;34m**\u001b[0m\u001b[0mkwargs\u001b[0m\u001b[0;34m)\u001b[0m\u001b[0;34m\u001b[0m\u001b[0m\n\u001b[0m\u001b[1;32m   1856\u001b[0m \u001b[0;34m\u001b[0m\u001b[0m\n\u001b[1;32m   1857\u001b[0m         inner.__doc__ = _add_data_doc(inner.__doc__,\n",
      "\u001b[0;32m/data/data/com.termux/files/usr/lib/python3.6/site-packages/matplotlib/axes/_axes.py\u001b[0m in \u001b[0;36mplot\u001b[0;34m(self, *args, **kwargs)\u001b[0m\n\u001b[1;32m   1525\u001b[0m         \u001b[0mkwargs\u001b[0m \u001b[0;34m=\u001b[0m \u001b[0mcbook\u001b[0m\u001b[0;34m.\u001b[0m\u001b[0mnormalize_kwargs\u001b[0m\u001b[0;34m(\u001b[0m\u001b[0mkwargs\u001b[0m\u001b[0;34m,\u001b[0m \u001b[0m_alias_map\u001b[0m\u001b[0;34m)\u001b[0m\u001b[0;34m\u001b[0m\u001b[0m\n\u001b[1;32m   1526\u001b[0m \u001b[0;34m\u001b[0m\u001b[0m\n\u001b[0;32m-> 1527\u001b[0;31m         \u001b[0;32mfor\u001b[0m \u001b[0mline\u001b[0m \u001b[0;32min\u001b[0m \u001b[0mself\u001b[0m\u001b[0;34m.\u001b[0m\u001b[0m_get_lines\u001b[0m\u001b[0;34m(\u001b[0m\u001b[0;34m*\u001b[0m\u001b[0margs\u001b[0m\u001b[0;34m,\u001b[0m \u001b[0;34m**\u001b[0m\u001b[0mkwargs\u001b[0m\u001b[0;34m)\u001b[0m\u001b[0;34m:\u001b[0m\u001b[0;34m\u001b[0m\u001b[0m\n\u001b[0m\u001b[1;32m   1528\u001b[0m             \u001b[0mself\u001b[0m\u001b[0;34m.\u001b[0m\u001b[0madd_line\u001b[0m\u001b[0;34m(\u001b[0m\u001b[0mline\u001b[0m\u001b[0;34m)\u001b[0m\u001b[0;34m\u001b[0m\u001b[0m\n\u001b[1;32m   1529\u001b[0m             \u001b[0mlines\u001b[0m\u001b[0;34m.\u001b[0m\u001b[0mappend\u001b[0m\u001b[0;34m(\u001b[0m\u001b[0mline\u001b[0m\u001b[0;34m)\u001b[0m\u001b[0;34m\u001b[0m\u001b[0m\n",
      "\u001b[0;32m/data/data/com.termux/files/usr/lib/python3.6/site-packages/matplotlib/axes/_base.py\u001b[0m in \u001b[0;36m_grab_next_args\u001b[0;34m(self, *args, **kwargs)\u001b[0m\n\u001b[1;32m    404\u001b[0m                 \u001b[0mthis\u001b[0m \u001b[0;34m+=\u001b[0m \u001b[0margs\u001b[0m\u001b[0;34m[\u001b[0m\u001b[0;36m0\u001b[0m\u001b[0;34m]\u001b[0m\u001b[0;34m,\u001b[0m\u001b[0;34m\u001b[0m\u001b[0m\n\u001b[1;32m    405\u001b[0m                 \u001b[0margs\u001b[0m \u001b[0;34m=\u001b[0m \u001b[0margs\u001b[0m\u001b[0;34m[\u001b[0m\u001b[0;36m1\u001b[0m\u001b[0;34m:\u001b[0m\u001b[0;34m]\u001b[0m\u001b[0;34m\u001b[0m\u001b[0m\n\u001b[0;32m--> 406\u001b[0;31m             \u001b[0;32mfor\u001b[0m \u001b[0mseg\u001b[0m \u001b[0;32min\u001b[0m \u001b[0mself\u001b[0m\u001b[0;34m.\u001b[0m\u001b[0m_plot_args\u001b[0m\u001b[0;34m(\u001b[0m\u001b[0mthis\u001b[0m\u001b[0;34m,\u001b[0m \u001b[0mkwargs\u001b[0m\u001b[0;34m)\u001b[0m\u001b[0;34m:\u001b[0m\u001b[0;34m\u001b[0m\u001b[0m\n\u001b[0m\u001b[1;32m    407\u001b[0m                 \u001b[0;32myield\u001b[0m \u001b[0mseg\u001b[0m\u001b[0;34m\u001b[0m\u001b[0m\n\u001b[1;32m    408\u001b[0m \u001b[0;34m\u001b[0m\u001b[0m\n",
      "\u001b[0;32m/data/data/com.termux/files/usr/lib/python3.6/site-packages/matplotlib/axes/_base.py\u001b[0m in \u001b[0;36m_plot_args\u001b[0;34m(self, tup, kwargs)\u001b[0m\n\u001b[1;32m    381\u001b[0m             \u001b[0mx\u001b[0m\u001b[0;34m,\u001b[0m \u001b[0my\u001b[0m \u001b[0;34m=\u001b[0m \u001b[0mindex_of\u001b[0m\u001b[0;34m(\u001b[0m\u001b[0mtup\u001b[0m\u001b[0;34m[\u001b[0m\u001b[0;34m-\u001b[0m\u001b[0;36m1\u001b[0m\u001b[0;34m]\u001b[0m\u001b[0;34m)\u001b[0m\u001b[0;34m\u001b[0m\u001b[0m\n\u001b[1;32m    382\u001b[0m \u001b[0;34m\u001b[0m\u001b[0m\n\u001b[0;32m--> 383\u001b[0;31m         \u001b[0mx\u001b[0m\u001b[0;34m,\u001b[0m \u001b[0my\u001b[0m \u001b[0;34m=\u001b[0m \u001b[0mself\u001b[0m\u001b[0;34m.\u001b[0m\u001b[0m_xy_from_xy\u001b[0m\u001b[0;34m(\u001b[0m\u001b[0mx\u001b[0m\u001b[0;34m,\u001b[0m \u001b[0my\u001b[0m\u001b[0;34m)\u001b[0m\u001b[0;34m\u001b[0m\u001b[0m\n\u001b[0m\u001b[1;32m    384\u001b[0m \u001b[0;34m\u001b[0m\u001b[0m\n\u001b[1;32m    385\u001b[0m         \u001b[0;32mif\u001b[0m \u001b[0mself\u001b[0m\u001b[0;34m.\u001b[0m\u001b[0mcommand\u001b[0m \u001b[0;34m==\u001b[0m \u001b[0;34m'plot'\u001b[0m\u001b[0;34m:\u001b[0m\u001b[0;34m\u001b[0m\u001b[0m\n",
      "\u001b[0;32m/data/data/com.termux/files/usr/lib/python3.6/site-packages/matplotlib/axes/_base.py\u001b[0m in \u001b[0;36m_xy_from_xy\u001b[0;34m(self, x, y)\u001b[0m\n\u001b[1;32m    240\u001b[0m         \u001b[0;32mif\u001b[0m \u001b[0mx\u001b[0m\u001b[0;34m.\u001b[0m\u001b[0mshape\u001b[0m\u001b[0;34m[\u001b[0m\u001b[0;36m0\u001b[0m\u001b[0;34m]\u001b[0m \u001b[0;34m!=\u001b[0m \u001b[0my\u001b[0m\u001b[0;34m.\u001b[0m\u001b[0mshape\u001b[0m\u001b[0;34m[\u001b[0m\u001b[0;36m0\u001b[0m\u001b[0;34m]\u001b[0m\u001b[0;34m:\u001b[0m\u001b[0;34m\u001b[0m\u001b[0m\n\u001b[1;32m    241\u001b[0m             raise ValueError(\"x and y must have same first dimension, but \"\n\u001b[0;32m--> 242\u001b[0;31m                              \"have shapes {} and {}\".format(x.shape, y.shape))\n\u001b[0m\u001b[1;32m    243\u001b[0m         \u001b[0;32mif\u001b[0m \u001b[0mx\u001b[0m\u001b[0;34m.\u001b[0m\u001b[0mndim\u001b[0m \u001b[0;34m>\u001b[0m \u001b[0;36m2\u001b[0m \u001b[0;32mor\u001b[0m \u001b[0my\u001b[0m\u001b[0;34m.\u001b[0m\u001b[0mndim\u001b[0m \u001b[0;34m>\u001b[0m \u001b[0;36m2\u001b[0m\u001b[0;34m:\u001b[0m\u001b[0;34m\u001b[0m\u001b[0m\n\u001b[1;32m    244\u001b[0m             raise ValueError(\"x and y can be no greater than 2-D, but have \"\n",
      "\u001b[0;31mValueError\u001b[0m: x and y must have same first dimension, but have shapes (101,) and (0,)"
     ]
    },
    {
     "data": {
      "image/png": "[encoded data removed]",
      "text/plain": [
       "<Figure size 432x288 with 1 Axes>"
      ]
     },
     "metadata": {},
     "output_type": "display_data"
    }
   ],
   "source": [
    "plots(T,E,\"Energy\",\"t\",\"E\")"
   ]
  },
  {
   "cell_type": "markdown",
   "metadata": {},
   "source": [
    "plots(T,M,\"intensity of magnetization\",\"t\",\"M\")"
   ]
  },
  {
   "cell_type": "code",
   "execution_count": 1,
   "metadata": {},
   "outputs": [
    {
     "ename": "NameError",
     "evalue": "name 'plots' is not defined",
     "output_type": "error",
     "traceback": [
      "\u001b[0;31m------------------------------------------------------------\u001b[0m",
      "\u001b[0;31mNameError\u001b[0m                  Traceback (most recent call last)",
      "\u001b[0;32m<ipython-input-1-818701e1f0b8>\u001b[0m in \u001b[0;36m<module>\u001b[0;34m()\u001b[0m\n\u001b[0;32m----> 1\u001b[0;31m \u001b[0mplots\u001b[0m\u001b[0;34m(\u001b[0m\u001b[0mT\u001b[0m\u001b[0;34m,\u001b[0m\u001b[0mC\u001b[0m\u001b[0;34m,\u001b[0m\u001b[0;34m\"Capacity\"\u001b[0m\u001b[0;34m,\u001b[0m\u001b[0;34m\"t\"\u001b[0m\u001b[0;34m,\u001b[0m\u001b[0;34m\"E\"\u001b[0m\u001b[0;34m)\u001b[0m\u001b[0;34m\u001b[0m\u001b[0m\n\u001b[0m",
      "\u001b[0;31mNameError\u001b[0m: name 'plots' is not defined"
     ]
    }
   ],
   "source": [
    "plots(T,C,\"Capacity\",\"t\",\"E\")"
   ]
  },
  {
   "cell_type": "code",
   "execution_count": 2,
   "metadata": {
    "scrolled": true
   },
   "outputs": [
    {
     "ename": "NameError",
     "evalue": "name 'plots' is not defined",
     "output_type": "error",
     "traceback": [
      "\u001b[0;31m------------------------------------------------------------\u001b[0m",
      "\u001b[0;31mNameError\u001b[0m                  Traceback (most recent call last)",
      "\u001b[0;32m<ipython-input-2-f0c97d894751>\u001b[0m in \u001b[0;36m<module>\u001b[0;34m()\u001b[0m\n\u001b[0;32m----> 1\u001b[0;31m \u001b[0mplots\u001b[0m\u001b[0;34m(\u001b[0m\u001b[0mT\u001b[0m\u001b[0;34m,\u001b[0m\u001b[0mP2\u001b[0m\u001b[0;34m,\u001b[0m\u001b[0;34m\"Magnetic susceptibility\"\u001b[0m\u001b[0;34m,\u001b[0m\u001b[0;34m\"t\"\u001b[0m\u001b[0;34m,\u001b[0m\u001b[0;34m\"Ms\"\u001b[0m\u001b[0;34m)\u001b[0m\u001b[0;34m\u001b[0m\u001b[0m\n\u001b[0m",
      "\u001b[0;31mNameError\u001b[0m: name 'plots' is not defined"
     ]
    }
   ],
   "source": [
    "plots(T,P2,\"Magnetic susceptibility\",\"t\",\"Ms\")"
   ]
  },
  {
   "cell_type": "code",
   "execution_count": 3,
   "metadata": {},
   "outputs": [
    {
     "ename": "NameError",
     "evalue": "name 'plots' is not defined",
     "output_type": "error",
     "traceback": [
      "\u001b[0;31m------------------------------------------------------------\u001b[0m",
      "\u001b[0;31mNameError\u001b[0m                  Traceback (most recent call last)",
      "\u001b[0;32m<ipython-input-3-c511ee3252ed>\u001b[0m in \u001b[0;36m<module>\u001b[0;34m()\u001b[0m\n\u001b[0;32m----> 1\u001b[0;31m \u001b[0mplots\u001b[0m\u001b[0;34m(\u001b[0m\u001b[0mC\u001b[0m\u001b[0;34m,\u001b[0m\u001b[0mT\u001b[0m\u001b[0;34m,\u001b[0m\u001b[0;34m\"C-T\"\u001b[0m\u001b[0;34m,\u001b[0m\u001b[0;34m\"c\"\u001b[0m\u001b[0;34m,\u001b[0m\u001b[0;34m\"t\"\u001b[0m\u001b[0;34m)\u001b[0m\u001b[0;34m\u001b[0m\u001b[0m\n\u001b[0m",
      "\u001b[0;31mNameError\u001b[0m: name 'plots' is not defined"
     ]
    }
   ],
   "source": [
    "plots(C,T,\"C-T\",\"c\",\"t\")"
   ]
  },
  {
   "cell_type": "code",
   "execution_count": null,
   "metadata": {},
   "outputs": [],
   "source": []
  },
  {
   "cell_type": "code",
   "execution_count": null,
   "metadata": {},
   "outputs": [],
   "source": []
  }
 ],
 "metadata": {
  "kernelspec": {
   "display_name": "Python 3",
   "language": "python",
   "name": "python3"
  },
  "language_info": {
   "codemirror_mode": {
    "name": "ipython",
    "version": 3
   },
   "file_extension": ".py",
   "mimetype": "text/x-python",
   "name": "python",
   "nbconvert_exporter": "python",
   "pygments_lexer": "ipython3",
   "version": "3.6.5"
  }
 },
 "nbformat": 4,
 "nbformat_minor": 2
}
